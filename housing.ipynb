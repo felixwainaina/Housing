{
 "cells": [
  {
   "cell_type": "code",
   "execution_count": 60,
   "outputs": [],
   "source": [
    "import numpy as np\n",
    "import pandas as pd\n",
    "import matplotlib.pyplot as plt\n",
    "import seaborn as sns\n",
    "from sklearn.preprocessing import PolynomialFeatures, StandardScaler\n",
    "from sklearn.model_selection import train_test_split\n",
    "from sklearn.linear_model import LinearRegression, RidgeCV, LassoCV, ElasticNetCV\n",
    "from sklearn import metrics\n",
    "from sklearn.linear_model import LinearRegression\n",
    "from joblib import dump, load"
   ],
   "metadata": {
    "collapsed": false,
    "pycharm": {
     "name": "#%%\n"
    }
   }
  },
  {
   "cell_type": "code",
   "execution_count": 61,
   "outputs": [],
   "source": [
    "# Reading the dataset\n",
    "df = pd.read_csv('train.csv')"
   ],
   "metadata": {
    "collapsed": false,
    "pycharm": {
     "name": "#%%\n"
    }
   }
  },
  {
   "cell_type": "code",
   "execution_count": 62,
   "outputs": [
    {
     "data": {
      "text/plain": "   Id  MSSubClass MSZoning  LotFrontage  LotArea Street Alley LotShape  \\\n0   1          60       RL         65.0     8450   Pave   NaN      Reg   \n1   2          20       RL         80.0     9600   Pave   NaN      Reg   \n2   3          60       RL         68.0    11250   Pave   NaN      IR1   \n3   4          70       RL         60.0     9550   Pave   NaN      IR1   \n4   5          60       RL         84.0    14260   Pave   NaN      IR1   \n\n  LandContour Utilities  ... PoolArea PoolQC Fence MiscFeature MiscVal MoSold  \\\n0         Lvl    AllPub  ...        0    NaN   NaN         NaN       0      2   \n1         Lvl    AllPub  ...        0    NaN   NaN         NaN       0      5   \n2         Lvl    AllPub  ...        0    NaN   NaN         NaN       0      9   \n3         Lvl    AllPub  ...        0    NaN   NaN         NaN       0      2   \n4         Lvl    AllPub  ...        0    NaN   NaN         NaN       0     12   \n\n  YrSold  SaleType  SaleCondition  SalePrice  \n0   2008        WD         Normal     208500  \n1   2007        WD         Normal     181500  \n2   2008        WD         Normal     223500  \n3   2006        WD        Abnorml     140000  \n4   2008        WD         Normal     250000  \n\n[5 rows x 81 columns]",
      "text/html": "<div>\n<style scoped>\n    .dataframe tbody tr th:only-of-type {\n        vertical-align: middle;\n    }\n\n    .dataframe tbody tr th {\n        vertical-align: top;\n    }\n\n    .dataframe thead th {\n        text-align: right;\n    }\n</style>\n<table border=\"1\" class=\"dataframe\">\n  <thead>\n    <tr style=\"text-align: right;\">\n      <th></th>\n      <th>Id</th>\n      <th>MSSubClass</th>\n      <th>MSZoning</th>\n      <th>LotFrontage</th>\n      <th>LotArea</th>\n      <th>Street</th>\n      <th>Alley</th>\n      <th>LotShape</th>\n      <th>LandContour</th>\n      <th>Utilities</th>\n      <th>...</th>\n      <th>PoolArea</th>\n      <th>PoolQC</th>\n      <th>Fence</th>\n      <th>MiscFeature</th>\n      <th>MiscVal</th>\n      <th>MoSold</th>\n      <th>YrSold</th>\n      <th>SaleType</th>\n      <th>SaleCondition</th>\n      <th>SalePrice</th>\n    </tr>\n  </thead>\n  <tbody>\n    <tr>\n      <th>0</th>\n      <td>1</td>\n      <td>60</td>\n      <td>RL</td>\n      <td>65.0</td>\n      <td>8450</td>\n      <td>Pave</td>\n      <td>NaN</td>\n      <td>Reg</td>\n      <td>Lvl</td>\n      <td>AllPub</td>\n      <td>...</td>\n      <td>0</td>\n      <td>NaN</td>\n      <td>NaN</td>\n      <td>NaN</td>\n      <td>0</td>\n      <td>2</td>\n      <td>2008</td>\n      <td>WD</td>\n      <td>Normal</td>\n      <td>208500</td>\n    </tr>\n    <tr>\n      <th>1</th>\n      <td>2</td>\n      <td>20</td>\n      <td>RL</td>\n      <td>80.0</td>\n      <td>9600</td>\n      <td>Pave</td>\n      <td>NaN</td>\n      <td>Reg</td>\n      <td>Lvl</td>\n      <td>AllPub</td>\n      <td>...</td>\n      <td>0</td>\n      <td>NaN</td>\n      <td>NaN</td>\n      <td>NaN</td>\n      <td>0</td>\n      <td>5</td>\n      <td>2007</td>\n      <td>WD</td>\n      <td>Normal</td>\n      <td>181500</td>\n    </tr>\n    <tr>\n      <th>2</th>\n      <td>3</td>\n      <td>60</td>\n      <td>RL</td>\n      <td>68.0</td>\n      <td>11250</td>\n      <td>Pave</td>\n      <td>NaN</td>\n      <td>IR1</td>\n      <td>Lvl</td>\n      <td>AllPub</td>\n      <td>...</td>\n      <td>0</td>\n      <td>NaN</td>\n      <td>NaN</td>\n      <td>NaN</td>\n      <td>0</td>\n      <td>9</td>\n      <td>2008</td>\n      <td>WD</td>\n      <td>Normal</td>\n      <td>223500</td>\n    </tr>\n    <tr>\n      <th>3</th>\n      <td>4</td>\n      <td>70</td>\n      <td>RL</td>\n      <td>60.0</td>\n      <td>9550</td>\n      <td>Pave</td>\n      <td>NaN</td>\n      <td>IR1</td>\n      <td>Lvl</td>\n      <td>AllPub</td>\n      <td>...</td>\n      <td>0</td>\n      <td>NaN</td>\n      <td>NaN</td>\n      <td>NaN</td>\n      <td>0</td>\n      <td>2</td>\n      <td>2006</td>\n      <td>WD</td>\n      <td>Abnorml</td>\n      <td>140000</td>\n    </tr>\n    <tr>\n      <th>4</th>\n      <td>5</td>\n      <td>60</td>\n      <td>RL</td>\n      <td>84.0</td>\n      <td>14260</td>\n      <td>Pave</td>\n      <td>NaN</td>\n      <td>IR1</td>\n      <td>Lvl</td>\n      <td>AllPub</td>\n      <td>...</td>\n      <td>0</td>\n      <td>NaN</td>\n      <td>NaN</td>\n      <td>NaN</td>\n      <td>0</td>\n      <td>12</td>\n      <td>2008</td>\n      <td>WD</td>\n      <td>Normal</td>\n      <td>250000</td>\n    </tr>\n  </tbody>\n</table>\n<p>5 rows × 81 columns</p>\n</div>"
     },
     "execution_count": 62,
     "metadata": {},
     "output_type": "execute_result"
    }
   ],
   "source": [
    "df.head()"
   ],
   "metadata": {
    "collapsed": false,
    "pycharm": {
     "name": "#%%\n"
    }
   }
  },
  {
   "cell_type": "code",
   "execution_count": 63,
   "outputs": [
    {
     "data": {
      "text/plain": "KitchenAbvGr    -0.135907\nEnclosedPorch   -0.128578\nMSSubClass      -0.084284\nOverallCond     -0.077856\nYrSold          -0.028923\nLowQualFinSF    -0.025606\nId              -0.021917\nMiscVal         -0.021190\nBsmtHalfBath    -0.016844\nBsmtFinSF2      -0.011378\n3SsnPorch        0.044584\nMoSold           0.046432\nPoolArea         0.092404\nScreenPorch      0.111447\nBedroomAbvGr     0.168213\nBsmtUnfSF        0.214479\nBsmtFullBath     0.227122\nLotArea          0.263843\nHalfBath         0.284108\nOpenPorchSF      0.315856\n2ndFlrSF         0.319334\nWoodDeckSF       0.324413\nLotFrontage      0.351799\nBsmtFinSF1       0.386420\nFireplaces       0.466929\nMasVnrArea       0.477493\nGarageYrBlt      0.486362\nYearRemodAdd     0.507101\nYearBuilt        0.522897\nTotRmsAbvGrd     0.533723\nFullBath         0.560664\n1stFlrSF         0.605852\nTotalBsmtSF      0.613581\nGarageArea       0.623431\nGarageCars       0.640409\nGrLivArea        0.708624\nOverallQual      0.790982\nSalePrice        1.000000\nName: SalePrice, dtype: float64"
     },
     "execution_count": 63,
     "metadata": {},
     "output_type": "execute_result"
    }
   ],
   "source": [
    "# Checking the correlation\n",
    "df.corr()['SalePrice'].sort_values()"
   ],
   "metadata": {
    "collapsed": false,
    "pycharm": {
     "name": "#%%\n"
    }
   }
  },
  {
   "cell_type": "code",
   "execution_count": 64,
   "outputs": [
    {
     "data": {
      "text/plain": "<matplotlib.lines.Line2D at 0x2a30e198370>"
     },
     "execution_count": 64,
     "metadata": {},
     "output_type": "execute_result"
    },
    {
     "data": {
      "text/plain": "<Figure size 432x288 with 1 Axes>",
      "image/png": "[encoded data removed]"
     },
     "metadata": {
      "needs_background": "light"
     },
     "output_type": "display_data"
    }
   ],
   "source": [
    "# Scatter Plot for SalePrice vs OverallQual\n",
    "sns.scatterplot(data=df, x='OverallQual', y='SalePrice')\n",
    "plt.axhline(y=200000,color='k')"
   ],
   "metadata": {
    "collapsed": false,
    "pycharm": {
     "name": "#%%\n"
    }
   }
  },
  {
   "cell_type": "code",
   "execution_count": 65,
   "outputs": [
    {
     "data": {
      "text/plain": "      SalePrice  OverallQual\n523      184750           10\n1298     160000           10",
      "text/html": "<div>\n<style scoped>\n    .dataframe tbody tr th:only-of-type {\n        vertical-align: middle;\n    }\n\n    .dataframe tbody tr th {\n        vertical-align: top;\n    }\n\n    .dataframe thead th {\n        text-align: right;\n    }\n</style>\n<table border=\"1\" class=\"dataframe\">\n  <thead>\n    <tr style=\"text-align: right;\">\n      <th></th>\n      <th>SalePrice</th>\n      <th>OverallQual</th>\n    </tr>\n  </thead>\n  <tbody>\n    <tr>\n      <th>523</th>\n      <td>184750</td>\n      <td>10</td>\n    </tr>\n    <tr>\n      <th>1298</th>\n      <td>160000</td>\n      <td>10</td>\n    </tr>\n  </tbody>\n</table>\n</div>"
     },
     "execution_count": 65,
     "metadata": {},
     "output_type": "execute_result"
    }
   ],
   "source": [
    "# Showing the rows of outliers for OverallQual\n",
    "df[(df['OverallQual'] > 8) & (df['SalePrice'] < 200000)][['SalePrice', 'OverallQual']]"
   ],
   "metadata": {
    "collapsed": false,
    "pycharm": {
     "name": "#%%\n"
    }
   }
  },
  {
   "cell_type": "code",
   "execution_count": 66,
   "outputs": [
    {
     "data": {
      "text/plain": "<matplotlib.lines.Line2D at 0x2a307913280>"
     },
     "execution_count": 66,
     "metadata": {},
     "output_type": "execute_result"
    },
    {
     "data": {
      "text/plain": "<Figure size 432x288 with 1 Axes>",
      "image/png": "[encoded data removed]"
     },
     "metadata": {
      "needs_background": "light"
     },
     "output_type": "display_data"
    }
   ],
   "source": [
    "# Scatter Plot for SalePrice vs GrLivArea\n",
    "sns.scatterplot(data=df, x='GrLivArea', y='SalePrice')\n",
    "plt.axhline(y=200000,color='r')\n",
    "plt.axvline(x=4000,color='r')"
   ],
   "metadata": {
    "collapsed": false,
    "pycharm": {
     "name": "#%%\n"
    }
   }
  },
  {
   "cell_type": "code",
   "execution_count": 67,
   "outputs": [
    {
     "data": {
      "text/plain": "      SalePrice  GrLivArea\n523      184750       4676\n1298     160000       5642",
      "text/html": "<div>\n<style scoped>\n    .dataframe tbody tr th:only-of-type {\n        vertical-align: middle;\n    }\n\n    .dataframe tbody tr th {\n        vertical-align: top;\n    }\n\n    .dataframe thead th {\n        text-align: right;\n    }\n</style>\n<table border=\"1\" class=\"dataframe\">\n  <thead>\n    <tr style=\"text-align: right;\">\n      <th></th>\n      <th>SalePrice</th>\n      <th>GrLivArea</th>\n    </tr>\n  </thead>\n  <tbody>\n    <tr>\n      <th>523</th>\n      <td>184750</td>\n      <td>4676</td>\n    </tr>\n    <tr>\n      <th>1298</th>\n      <td>160000</td>\n      <td>5642</td>\n    </tr>\n  </tbody>\n</table>\n</div>"
     },
     "execution_count": 67,
     "metadata": {},
     "output_type": "execute_result"
    }
   ],
   "source": [
    "# Showing the rows of outliers for GrLivArea\n",
    "df[(df['GrLivArea']>4000) & (df['SalePrice']<200000)][['SalePrice', 'GrLivArea']]"
   ],
   "metadata": {
    "collapsed": false,
    "pycharm": {
     "name": "#%%\n"
    }
   }
  },
  {
   "cell_type": "code",
   "execution_count": 68,
   "outputs": [],
   "source": [
    "# Removing the outliers\n",
    "index_drop=df[(df['GrLivArea']>4000) & (df['SalePrice']<200000)].index\n",
    "df=df.drop(index_drop, axis=0)"
   ],
   "metadata": {
    "collapsed": false,
    "pycharm": {
     "name": "#%%\n"
    }
   }
  },
  {
   "cell_type": "code",
   "execution_count": 69,
   "outputs": [
    {
     "data": {
      "text/plain": "<matplotlib.lines.Line2D at 0x2a309b2d5e0>"
     },
     "execution_count": 69,
     "metadata": {},
     "output_type": "execute_result"
    },
    {
     "data": {
      "text/plain": "<Figure size 432x288 with 1 Axes>",
      "image/png": "[encoded data removed]"
     },
     "metadata": {
      "needs_background": "light"
     },
     "output_type": "display_data"
    }
   ],
   "source": [
    "# Scatter Plot for checking the conditions of outliers\n",
    "sns.scatterplot(x='GrLivArea', y='SalePrice', data=df)\n",
    "plt.axhline(y=200000, color='r')\n",
    "plt.axvline(x=4000, color='r')"
   ],
   "metadata": {
    "collapsed": false,
    "pycharm": {
     "name": "#%%\n"
    }
   }
  },
  {
   "cell_type": "code",
   "execution_count": 70,
   "outputs": [
    {
     "data": {
      "text/plain": "<matplotlib.lines.Line2D at 0x2a30e1a53d0>"
     },
     "execution_count": 70,
     "metadata": {},
     "output_type": "execute_result"
    },
    {
     "data": {
      "text/plain": "<Figure size 432x288 with 1 Axes>",
      "image/png": "[encoded data removed]"
     },
     "metadata": {
      "needs_background": "light"
     },
     "output_type": "display_data"
    }
   ],
   "source": [
    "sns.scatterplot(x='OverallQual', y='SalePrice', data=df)\n",
    "plt.axhline(y=200000,c='r')"
   ],
   "metadata": {
    "collapsed": false,
    "pycharm": {
     "name": "#%%\n"
    }
   }
  },
  {
   "cell_type": "code",
   "execution_count": 71,
   "outputs": [
    {
     "data": {
      "text/plain": "<AxesSubplot:xlabel='OverallQual', ylabel='SalePrice'>"
     },
     "execution_count": 71,
     "metadata": {},
     "output_type": "execute_result"
    },
    {
     "data": {
      "text/plain": "<Figure size 432x288 with 1 Axes>",
      "image/png": "[encoded data removed]"
     },
     "metadata": {
      "needs_background": "light"
     },
     "output_type": "display_data"
    }
   ],
   "source": [
    "# Box Plot\n",
    "sns.boxplot(x='OverallQual', y='SalePrice', data=df)"
   ],
   "metadata": {
    "collapsed": false,
    "pycharm": {
     "name": "#%%\n"
    }
   }
  },
  {
   "cell_type": "code",
   "execution_count": 72,
   "outputs": [
    {
     "data": {
      "text/plain": "PoolQC         1452\nMiscFeature    1404\nAlley          1367\nFence          1177\nFireplaceQu     690\n               ... \nExterQual         0\nExterior2nd       0\nExterior1st       0\nRoofMatl          0\nSalePrice         0\nLength: 81, dtype: int64"
     },
     "execution_count": 72,
     "metadata": {},
     "output_type": "execute_result"
    }
   ],
   "source": [
    "# Checking the missing data\n",
    "df.isnull().sum().sort_values(ascending=False)"
   ],
   "metadata": {
    "collapsed": false,
    "pycharm": {
     "name": "#%%\n"
    }
   }
  },
  {
   "cell_type": "code",
   "execution_count": 73,
   "outputs": [
    {
     "data": {
      "text/plain": "        Id  MSSubClass MSZoning  LotFrontage  LotArea Street Alley LotShape  \\\n1379  1380          80       RL         73.0     9735   Pave   NaN      Reg   \n\n     LandContour Utilities  ... PoolArea PoolQC Fence MiscFeature MiscVal  \\\n1379         Lvl    AllPub  ...        0    NaN   NaN         NaN       0   \n\n     MoSold YrSold  SaleType  SaleCondition  SalePrice  \n1379      5   2008        WD         Normal     167500  \n\n[1 rows x 81 columns]",
      "text/html": "<div>\n<style scoped>\n    .dataframe tbody tr th:only-of-type {\n        vertical-align: middle;\n    }\n\n    .dataframe tbody tr th {\n        vertical-align: top;\n    }\n\n    .dataframe thead th {\n        text-align: right;\n    }\n</style>\n<table border=\"1\" class=\"dataframe\">\n  <thead>\n    <tr style=\"text-align: right;\">\n      <th></th>\n      <th>Id</th>\n      <th>MSSubClass</th>\n      <th>MSZoning</th>\n      <th>LotFrontage</th>\n      <th>LotArea</th>\n      <th>Street</th>\n      <th>Alley</th>\n      <th>LotShape</th>\n      <th>LandContour</th>\n      <th>Utilities</th>\n      <th>...</th>\n      <th>PoolArea</th>\n      <th>PoolQC</th>\n      <th>Fence</th>\n      <th>MiscFeature</th>\n      <th>MiscVal</th>\n      <th>MoSold</th>\n      <th>YrSold</th>\n      <th>SaleType</th>\n      <th>SaleCondition</th>\n      <th>SalePrice</th>\n    </tr>\n  </thead>\n  <tbody>\n    <tr>\n      <th>1379</th>\n      <td>1380</td>\n      <td>80</td>\n      <td>RL</td>\n      <td>73.0</td>\n      <td>9735</td>\n      <td>Pave</td>\n      <td>NaN</td>\n      <td>Reg</td>\n      <td>Lvl</td>\n      <td>AllPub</td>\n      <td>...</td>\n      <td>0</td>\n      <td>NaN</td>\n      <td>NaN</td>\n      <td>NaN</td>\n      <td>0</td>\n      <td>5</td>\n      <td>2008</td>\n      <td>WD</td>\n      <td>Normal</td>\n      <td>167500</td>\n    </tr>\n  </tbody>\n</table>\n<p>1 rows × 81 columns</p>\n</div>"
     },
     "execution_count": 73,
     "metadata": {},
     "output_type": "execute_result"
    }
   ],
   "source": [
    "df[df['Electrical'].isnull()]"
   ],
   "metadata": {
    "collapsed": false,
    "pycharm": {
     "name": "#%%\n"
    }
   }
  },
  {
   "cell_type": "code",
   "execution_count": 74,
   "outputs": [],
   "source": [
    "df= df.dropna(axis=0, subset=['Electrical'])"
   ],
   "metadata": {
    "collapsed": false,
    "pycharm": {
     "name": "#%%\n"
    }
   }
  },
  {
   "cell_type": "code",
   "execution_count": 75,
   "outputs": [],
   "source": [
    "# Droping missing data\n",
    "df= df.drop(['Alley', 'FireplaceQu', 'PoolQC', 'Fence', 'MiscFeature'], axis=1)"
   ],
   "metadata": {
    "collapsed": false,
    "pycharm": {
     "name": "#%%\n"
    }
   }
  },
  {
   "cell_type": "code",
   "execution_count": 76,
   "outputs": [],
   "source": [
    "# Filling the missing data\n",
    "Gar_cols = ['GarageType', 'GarageFinish', 'GarageQual', 'GarageCond']\n",
    "df[Gar_cols] = df[Gar_cols].fillna('None')\n",
    "\n",
    "df['GarageYrBlt'] = df['GarageYrBlt'].fillna(0)\n",
    "\n",
    "Bsmt_cols = ['BsmtQual','BsmtCond','BsmtExposure','BsmtFinType1','BsmtFinType2', 'MasVnrType']\n",
    "df[Bsmt_cols] = df[Bsmt_cols].fillna('None')\n",
    "\n",
    "df['BsmtFinSF1'] = df['BsmtFinSF1'].fillna(0)\n",
    "df['MasVnrArea'] = df['MasVnrArea'].fillna(0)\n",
    "\n",
    "df['LotFrontage']=df.groupby('Neighborhood')['LotFrontage'].transform(lambda col: col.fillna(col.mean()))"
   ],
   "metadata": {
    "collapsed": false,
    "pycharm": {
     "name": "#%%\n"
    }
   }
  },
  {
   "cell_type": "code",
   "execution_count": 77,
   "outputs": [
    {
     "data": {
      "text/plain": "Id              0\nFullBath        0\nFireplaces      0\nFunctional      0\nTotRmsAbvGrd    0\n               ..\nMasVnrType      0\nExterior2nd     0\nExterior1st     0\nRoofMatl        0\nSalePrice       0\nLength: 76, dtype: int64"
     },
     "execution_count": 77,
     "metadata": {},
     "output_type": "execute_result"
    }
   ],
   "source": [
    "# Final checking of missing data\n",
    "df.isnull().sum().sort_values(ascending=False)"
   ],
   "metadata": {
    "collapsed": false,
    "pycharm": {
     "name": "#%%\n"
    }
   }
  },
  {
   "cell_type": "code",
   "execution_count": 78,
   "outputs": [
    {
     "name": "stdout",
     "output_type": "stream",
     "text": [
      "<class 'pandas.core.frame.DataFrame'>\n",
      "Int64Index: 1457 entries, 0 to 1459\n",
      "Data columns (total 38 columns):\n",
      " #   Column         Non-Null Count  Dtype \n",
      "---  ------         --------------  ----- \n",
      " 0   MSZoning       1457 non-null   object\n",
      " 1   Street         1457 non-null   object\n",
      " 2   LotShape       1457 non-null   object\n",
      " 3   LandContour    1457 non-null   object\n",
      " 4   Utilities      1457 non-null   object\n",
      " 5   LotConfig      1457 non-null   object\n",
      " 6   LandSlope      1457 non-null   object\n",
      " 7   Neighborhood   1457 non-null   object\n",
      " 8   Condition1     1457 non-null   object\n",
      " 9   Condition2     1457 non-null   object\n",
      " 10  BldgType       1457 non-null   object\n",
      " 11  HouseStyle     1457 non-null   object\n",
      " 12  RoofStyle      1457 non-null   object\n",
      " 13  RoofMatl       1457 non-null   object\n",
      " 14  Exterior1st    1457 non-null   object\n",
      " 15  Exterior2nd    1457 non-null   object\n",
      " 16  MasVnrType     1457 non-null   object\n",
      " 17  ExterQual      1457 non-null   object\n",
      " 18  ExterCond      1457 non-null   object\n",
      " 19  Foundation     1457 non-null   object\n",
      " 20  BsmtQual       1457 non-null   object\n",
      " 21  BsmtCond       1457 non-null   object\n",
      " 22  BsmtExposure   1457 non-null   object\n",
      " 23  BsmtFinType1   1457 non-null   object\n",
      " 24  BsmtFinType2   1457 non-null   object\n",
      " 25  Heating        1457 non-null   object\n",
      " 26  HeatingQC      1457 non-null   object\n",
      " 27  CentralAir     1457 non-null   object\n",
      " 28  Electrical     1457 non-null   object\n",
      " 29  KitchenQual    1457 non-null   object\n",
      " 30  Functional     1457 non-null   object\n",
      " 31  GarageType     1457 non-null   object\n",
      " 32  GarageFinish   1457 non-null   object\n",
      " 33  GarageQual     1457 non-null   object\n",
      " 34  GarageCond     1457 non-null   object\n",
      " 35  PavedDrive     1457 non-null   object\n",
      " 36  SaleType       1457 non-null   object\n",
      " 37  SaleCondition  1457 non-null   object\n",
      "dtypes: object(38)\n",
      "memory usage: 443.9+ KB\n"
     ]
    }
   ],
   "source": [
    "# Converting string to values\n",
    "df_num= df.select_dtypes(exclude='object')\n",
    "df_obj= df.select_dtypes(include='object')\n",
    "df_obj.info()"
   ],
   "metadata": {
    "collapsed": false,
    "pycharm": {
     "name": "#%%\n"
    }
   }
  },
  {
   "cell_type": "code",
   "execution_count": 79,
   "outputs": [
    {
     "name": "stdout",
     "output_type": "stream",
     "text": [
      "<class 'pandas.core.frame.DataFrame'>\n",
      "Int64Index: 1457 entries, 0 to 1459\n",
      "Columns: 242 entries, Id to SaleCondition_Partial\n",
      "dtypes: float64(3), int64(35), uint8(204)\n",
      "memory usage: 734.2 KB\n"
     ]
    }
   ],
   "source": [
    "# One hot Encoding\n",
    "df_obj= pd.get_dummies(df_obj, drop_first=True)\n",
    "Final_df= pd.concat([df_num, df_obj], axis=1)\n",
    "Final_df.info()"
   ],
   "metadata": {
    "collapsed": false,
    "pycharm": {
     "name": "#%%\n"
    }
   }
  },
  {
   "cell_type": "code",
   "execution_count": 80,
   "outputs": [
    {
     "data": {
      "text/plain": "ExterQual_TA       -0.589947\nKitchenQual_TA     -0.520124\nBsmtQual_TA        -0.453018\nGarageFinish_Unf   -0.411144\nMasVnrType_None    -0.368013\n                      ...   \nGarageCars          0.641111\nTotalBsmtSF         0.651553\nGrLivArea           0.734962\nOverallQual         0.795863\nSalePrice           1.000000\nName: SalePrice, Length: 242, dtype: float64"
     },
     "execution_count": 80,
     "metadata": {},
     "output_type": "execute_result"
    }
   ],
   "source": [
    "# Checking SalePrice Correlation\n",
    "data_correlations = Final_df.corr(method = 'pearson')\n",
    "data_correlations['SalePrice'].sort_values()"
   ],
   "metadata": {
    "collapsed": false,
    "pycharm": {
     "name": "#%%\n"
    }
   }
  },
  {
   "cell_type": "code",
   "execution_count": 81,
   "outputs": [
    {
     "name": "stdout",
     "output_type": "stream",
     "text": [
      "RMSE_LiReg = 23863.352093807724\n"
     ]
    },
    {
     "data": {
      "text/plain": "      Y_Test         Y_Pred\n666   129000  168778.343383\n104   169500  185229.584353\n1108  181000  169170.762890\n18    159000  150859.658956\n1024  287000  293506.197950",
      "text/html": "<div>\n<style scoped>\n    .dataframe tbody tr th:only-of-type {\n        vertical-align: middle;\n    }\n\n    .dataframe tbody tr th {\n        vertical-align: top;\n    }\n\n    .dataframe thead th {\n        text-align: right;\n    }\n</style>\n<table border=\"1\" class=\"dataframe\">\n  <thead>\n    <tr style=\"text-align: right;\">\n      <th></th>\n      <th>Y_Test</th>\n      <th>Y_Pred</th>\n    </tr>\n  </thead>\n  <tbody>\n    <tr>\n      <th>666</th>\n      <td>129000</td>\n      <td>168778.343383</td>\n    </tr>\n    <tr>\n      <th>104</th>\n      <td>169500</td>\n      <td>185229.584353</td>\n    </tr>\n    <tr>\n      <th>1108</th>\n      <td>181000</td>\n      <td>169170.762890</td>\n    </tr>\n    <tr>\n      <th>18</th>\n      <td>159000</td>\n      <td>150859.658956</td>\n    </tr>\n    <tr>\n      <th>1024</th>\n      <td>287000</td>\n      <td>293506.197950</td>\n    </tr>\n  </tbody>\n</table>\n</div>"
     },
     "execution_count": 81,
     "metadata": {},
     "output_type": "execute_result"
    }
   ],
   "source": [
    "# Using Linear Regression\n",
    "\n",
    "X = Final_df.drop('SalePrice', axis = 1)\n",
    "y = Final_df['SalePrice']\n",
    "X_train, X_test, y_train, y_test = train_test_split(X, y, test_size=0.3, random_state=101)\n",
    "model= LinearRegression()\n",
    "model.fit(X_train, y_train)\n",
    "y_pred=model.predict(X_test)\n",
    "MSE_LiReg= metrics.mean_squared_error(y_test, y_pred)\n",
    "RMSE_LiReg=np.sqrt(MSE_LiReg)\n",
    "print('RMSE_LiReg =', RMSE_LiReg )\n",
    "pd.DataFrame({'Y_Test': y_test,'Y_Pred':y_pred }).head()"
   ],
   "metadata": {
    "collapsed": false,
    "pycharm": {
     "name": "#%%\n"
    }
   }
  },
  {
   "cell_type": "code",
   "execution_count": 82,
   "outputs": [
    {
     "name": "stderr",
     "output_type": "stream",
     "text": [
      "C:\\Users\\DR. KIMANI\\AppData\\Roaming\\Python\\Python39\\site-packages\\sklearn\\linear_model\\_base.py:141: FutureWarning: 'normalize' was deprecated in version 1.0 and will be removed in 1.2.\n",
      "If you wish to scale the data, use Pipeline with a StandardScaler in a preprocessing stage. To reproduce the previous behavior:\n",
      "\n",
      "from sklearn.pipeline import make_pipeline\n",
      "\n",
      "model = make_pipeline(StandardScaler(with_mean=False), LinearRegression())\n",
      "\n",
      "If you wish to pass a sample_weight parameter, you need to pass it as a fit parameter to each step of the pipeline as follows:\n",
      "\n",
      "kwargs = {s[0] + '__sample_weight': sample_weight for s in model.steps}\n",
      "model.fit(X, y, **kwargs)\n",
      "\n",
      "\n",
      "  warnings.warn(\n"
     ]
    },
    {
     "name": "stdout",
     "output_type": "stream",
     "text": [
      "(29402,)\n"
     ]
    }
   ],
   "source": [
    "# Using Ploynomial Regression\n",
    "\n",
    "polynomial_converter = PolynomialFeatures(degree = 2 , include_bias = False)\n",
    "polynomial_features = polynomial_converter.fit_transform(X)\n",
    "polynomial_features.shape\n",
    "X_train, X_test, y_train, y_test = train_test_split(polynomial_features, y, test_size = 0.3, random_state = 101  )\n",
    "polymodel_norm = LinearRegression (normalize = True)\n",
    "model_fitted_normalized = polymodel_norm.fit(X_train, y_train )\n",
    "print(polymodel_norm.coef_.shape)"
   ],
   "metadata": {
    "collapsed": false,
    "pycharm": {
     "name": "#%%\n"
    }
   }
  },
  {
   "cell_type": "code",
   "execution_count": 83,
   "outputs": [
    {
     "data": {
      "text/plain": "             Y_pred  Y_test      Residual\n666   220162.450134  129000 -91162.450134\n104   188042.879091  169500 -18542.879091\n1108  154148.718024  181000  26851.281976\n18    158498.100719  159000    501.899281\n1024  316159.225732  287000 -29159.225732",
      "text/html": "<div>\n<style scoped>\n    .dataframe tbody tr th:only-of-type {\n        vertical-align: middle;\n    }\n\n    .dataframe tbody tr th {\n        vertical-align: top;\n    }\n\n    .dataframe thead th {\n        text-align: right;\n    }\n</style>\n<table border=\"1\" class=\"dataframe\">\n  <thead>\n    <tr style=\"text-align: right;\">\n      <th></th>\n      <th>Y_pred</th>\n      <th>Y_test</th>\n      <th>Residual</th>\n    </tr>\n  </thead>\n  <tbody>\n    <tr>\n      <th>666</th>\n      <td>220162.450134</td>\n      <td>129000</td>\n      <td>-91162.450134</td>\n    </tr>\n    <tr>\n      <th>104</th>\n      <td>188042.879091</td>\n      <td>169500</td>\n      <td>-18542.879091</td>\n    </tr>\n    <tr>\n      <th>1108</th>\n      <td>154148.718024</td>\n      <td>181000</td>\n      <td>26851.281976</td>\n    </tr>\n    <tr>\n      <th>18</th>\n      <td>158498.100719</td>\n      <td>159000</td>\n      <td>501.899281</td>\n    </tr>\n    <tr>\n      <th>1024</th>\n      <td>316159.225732</td>\n      <td>287000</td>\n      <td>-29159.225732</td>\n    </tr>\n  </tbody>\n</table>\n</div>"
     },
     "execution_count": 83,
     "metadata": {},
     "output_type": "execute_result"
    }
   ],
   "source": [
    "# Prediction\n",
    "\n",
    "y_pred_norm = polymodel_norm.predict(X_test)\n",
    "pd.DataFrame ( {'Y_pred': y_pred_norm, 'Y_test': y_test, 'Residual': y_test - y_pred_norm}).head()"
   ],
   "metadata": {
    "collapsed": false,
    "pycharm": {
     "name": "#%%\n"
    }
   }
  },
  {
   "cell_type": "code",
   "execution_count": 84,
   "outputs": [
    {
     "data": {
      "text/plain": "           metrics\nMAE   2.047713e+04\nMSE   1.014056e+09\nRMSE  3.184425e+04",
      "text/html": "<div>\n<style scoped>\n    .dataframe tbody tr th:only-of-type {\n        vertical-align: middle;\n    }\n\n    .dataframe tbody tr th {\n        vertical-align: top;\n    }\n\n    .dataframe thead th {\n        text-align: right;\n    }\n</style>\n<table border=\"1\" class=\"dataframe\">\n  <thead>\n    <tr style=\"text-align: right;\">\n      <th></th>\n      <th>metrics</th>\n    </tr>\n  </thead>\n  <tbody>\n    <tr>\n      <th>MAE</th>\n      <td>2.047713e+04</td>\n    </tr>\n    <tr>\n      <th>MSE</th>\n      <td>1.014056e+09</td>\n    </tr>\n    <tr>\n      <th>RMSE</th>\n      <td>3.184425e+04</td>\n    </tr>\n  </tbody>\n</table>\n</div>"
     },
     "execution_count": 84,
     "metadata": {},
     "output_type": "execute_result"
    }
   ],
   "source": [
    "# Evaluating the Model\n",
    "\n",
    "MAE = metrics.mean_absolute_error(y_pred_norm, y_test)\n",
    "MSE = metrics.mean_squared_error(y_pred_norm, y_test)\n",
    "RMSE = np.sqrt (MSE )\n",
    "pd.DataFrame([MAE, MSE, RMSE], index=['MAE', 'MSE', 'RMSE'], columns=['metrics'])"
   ],
   "metadata": {
    "collapsed": false,
    "pycharm": {
     "name": "#%%\n"
    }
   }
  },
  {
   "cell_type": "code",
   "execution_count": 85,
   "outputs": [
    {
     "data": {
      "text/plain": "      Lasso Metrics\nMAE    5.155048e+10\nMSE    3.385050e+21\nRMSE   5.818118e+10",
      "text/html": "<div>\n<style scoped>\n    .dataframe tbody tr th:only-of-type {\n        vertical-align: middle;\n    }\n\n    .dataframe tbody tr th {\n        vertical-align: top;\n    }\n\n    .dataframe thead th {\n        text-align: right;\n    }\n</style>\n<table border=\"1\" class=\"dataframe\">\n  <thead>\n    <tr style=\"text-align: right;\">\n      <th></th>\n      <th>Lasso Metrics</th>\n    </tr>\n  </thead>\n  <tbody>\n    <tr>\n      <th>MAE</th>\n      <td>5.155048e+10</td>\n    </tr>\n    <tr>\n      <th>MSE</th>\n      <td>3.385050e+21</td>\n    </tr>\n    <tr>\n      <th>RMSE</th>\n      <td>5.818118e+10</td>\n    </tr>\n  </tbody>\n</table>\n</div>"
     },
     "execution_count": 85,
     "metadata": {},
     "output_type": "execute_result"
    }
   ],
   "source": [
    "# LassoCV\n",
    "\n",
    "scaler = StandardScaler()\n",
    "scaler.fit(X_train)\n",
    "X_train_transform = scaler.transform(X_train)\n",
    "X_test_transform = scaler.transform(X_test)\n",
    "lasso_cv_model = LassoCV(eps=0.01, n_alphas=100, cv=5)\n",
    "lasso_cv_model.fit(X_train_transform, y_train)\n",
    "y_pred_lasso = lasso_cv_model.predict(X_test)\n",
    "MAE_Lasso = metrics.mean_absolute_error (y_pred_lasso, y_test)\n",
    "MSE_Lasso = metrics.mean_squared_error (y_pred_lasso, y_test)\n",
    "RMSE_Lasso = np.sqrt(MSE_Lasso)\n",
    "pd.DataFrame([MAE_Lasso, MSE_Lasso, RMSE_Lasso], index=['MAE', 'MSE', 'RMSE'], columns=['Lasso Metrics'])"
   ],
   "metadata": {
    "collapsed": false,
    "pycharm": {
     "name": "#%%\n"
    }
   }
  },
  {
   "cell_type": "code",
   "execution_count": 86,
   "outputs": [
    {
     "data": {
      "text/plain": "      Ridge Metrics\nMAE    1.955024e+04\nMSE    9.525097e+08\nRMSE   3.086276e+04",
      "text/html": "<div>\n<style scoped>\n    .dataframe tbody tr th:only-of-type {\n        vertical-align: middle;\n    }\n\n    .dataframe tbody tr th {\n        vertical-align: top;\n    }\n\n    .dataframe thead th {\n        text-align: right;\n    }\n</style>\n<table border=\"1\" class=\"dataframe\">\n  <thead>\n    <tr style=\"text-align: right;\">\n      <th></th>\n      <th>Ridge Metrics</th>\n    </tr>\n  </thead>\n  <tbody>\n    <tr>\n      <th>MAE</th>\n      <td>1.955024e+04</td>\n    </tr>\n    <tr>\n      <th>MSE</th>\n      <td>9.525097e+08</td>\n    </tr>\n    <tr>\n      <th>RMSE</th>\n      <td>3.086276e+04</td>\n    </tr>\n  </tbody>\n</table>\n</div>"
     },
     "execution_count": 86,
     "metadata": {},
     "output_type": "execute_result"
    }
   ],
   "source": [
    "# RidgeCV\n",
    "\n",
    "ridgecvmodel = RidgeCV(alphas=(0.1, 1.0, 10.0), scoring='neg_mean_absolute_error')\n",
    "ridgecvmodel.fit(X_train_transform, y_train )\n",
    "y_pred_ridgecv = ridgecvmodel.predict(X_test_transform)\n",
    "MAE_ridge = metrics.mean_absolute_error(y_pred_ridgecv, y_test)\n",
    "MSE_ridge = metrics.mean_squared_error(y_pred_ridgecv, y_test)\n",
    "RMSE_ridge = np.sqrt(MSE_ridge)\n",
    "pd.DataFrame([MAE_ridge, MSE_ridge, RMSE_ridge], index=['MAE', 'MSE', 'RMSE'], columns=['Ridge Metrics'])"
   ],
   "metadata": {
    "collapsed": false,
    "pycharm": {
     "name": "#%%\n"
    }
   }
  },
  {
   "cell_type": "code",
   "execution_count": 87,
   "outputs": [
    {
     "data": {
      "text/plain": "      Elastic Metrics\nMAE      1.488890e+04\nMSE      4.877591e+08\nRMSE     2.208527e+04",
      "text/html": "<div>\n<style scoped>\n    .dataframe tbody tr th:only-of-type {\n        vertical-align: middle;\n    }\n\n    .dataframe tbody tr th {\n        vertical-align: top;\n    }\n\n    .dataframe thead th {\n        text-align: right;\n    }\n</style>\n<table border=\"1\" class=\"dataframe\">\n  <thead>\n    <tr style=\"text-align: right;\">\n      <th></th>\n      <th>Elastic Metrics</th>\n    </tr>\n  </thead>\n  <tbody>\n    <tr>\n      <th>MAE</th>\n      <td>1.488890e+04</td>\n    </tr>\n    <tr>\n      <th>MSE</th>\n      <td>4.877591e+08</td>\n    </tr>\n    <tr>\n      <th>RMSE</th>\n      <td>2.208527e+04</td>\n    </tr>\n  </tbody>\n</table>\n</div>"
     },
     "execution_count": 87,
     "metadata": {},
     "output_type": "execute_result"
    }
   ],
   "source": [
    "# Elastic Net\n",
    "\n",
    "elastic_model= ElasticNetCV(l1_ratio=[0.1, 0.5, 0.7, 0.9, 0.95, 0.99, 1],cv=5, max_iter=100000)\n",
    "elastic_model.fit(X_train_transform, y_train)\n",
    "y_pred_elastic=elastic_model.predict(X_test_transform)\n",
    "MAE_Elastic = metrics.mean_absolute_error(y_pred_elastic, y_test)\n",
    "MSE_Elastic = metrics.mean_squared_error(y_pred_elastic, y_test)\n",
    "RMSE_Elastic = np.sqrt(MSE_Elastic)\n",
    "pd.DataFrame([MAE_Elastic, MSE_Elastic, RMSE_Elastic], index=['MAE', 'MSE', 'RMSE'], columns=['Elastic Metrics'])"
   ],
   "metadata": {
    "collapsed": false,
    "pycharm": {
     "name": "#%%\n"
    }
   }
  },
  {
   "cell_type": "code",
   "execution_count": 88,
   "outputs": [
    {
     "data": {
      "text/plain": "            RMSE Error for Regresssion Models\nLinear                           2.386335e+04\nPolynomial                       3.184425e+04\nRidge                            3.086276e+04\nLasso                            5.818118e+10\nElastic                          2.208527e+04",
      "text/html": "<div>\n<style scoped>\n    .dataframe tbody tr th:only-of-type {\n        vertical-align: middle;\n    }\n\n    .dataframe tbody tr th {\n        vertical-align: top;\n    }\n\n    .dataframe thead th {\n        text-align: right;\n    }\n</style>\n<table border=\"1\" class=\"dataframe\">\n  <thead>\n    <tr style=\"text-align: right;\">\n      <th></th>\n      <th>RMSE Error for Regresssion Models</th>\n    </tr>\n  </thead>\n  <tbody>\n    <tr>\n      <th>Linear</th>\n      <td>2.386335e+04</td>\n    </tr>\n    <tr>\n      <th>Polynomial</th>\n      <td>3.184425e+04</td>\n    </tr>\n    <tr>\n      <th>Ridge</th>\n      <td>3.086276e+04</td>\n    </tr>\n    <tr>\n      <th>Lasso</th>\n      <td>5.818118e+10</td>\n    </tr>\n    <tr>\n      <th>Elastic</th>\n      <td>2.208527e+04</td>\n    </tr>\n  </tbody>\n</table>\n</div>"
     },
     "execution_count": 88,
     "metadata": {},
     "output_type": "execute_result"
    }
   ],
   "source": [
    "pd.DataFrame({'RMSE Error for Regresssion Models':\n",
    "                [RMSE_LiReg, RMSE, RMSE_ridge, RMSE_Lasso, RMSE_Elastic]},\n",
    "              index=['Linear', 'Polynomial', 'Ridge', 'Lasso', 'Elastic'])"
   ],
   "metadata": {
    "collapsed": false,
    "pycharm": {
     "name": "#%%\n"
    }
   }
  }
 ],
 "metadata": {
  "kernelspec": {
   "display_name": "Python 3",
   "language": "python",
   "name": "python3"
  },
  "language_info": {
   "codemirror_mode": {
    "name": "ipython",
    "version": 2
   },
   "file_extension": ".py",
   "mimetype": "text/x-python",
   "name": "python",
   "nbconvert_exporter": "python",
   "pygments_lexer": "ipython2",
   "version": "2.7.6"
  }
 },
 "nbformat": 4,
 "nbformat_minor": 0
}